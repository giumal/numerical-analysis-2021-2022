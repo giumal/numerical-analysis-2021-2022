{
 "cells": [
  {
   "cell_type": "code",
   "execution_count": 97,
   "id": "3fe94688",
   "metadata": {
    "id": "3fe94688"
   },
   "outputs": [],
   "source": [
    "%matplotlib inline\n",
    "from numpy import *\n",
    "from matplotlib.pyplot import *"
   ]
  },
  {
   "cell_type": "code",
   "execution_count": null,
   "id": "2yUETvkozE7b",
   "metadata": {
    "id": "2yUETvkozE7b"
   },
   "outputs": [],
   "source": []
  },
  {
   "cell_type": "markdown",
   "id": "8184faab",
   "metadata": {
    "id": "8184faab"
   },
   "source": [
    "Consider the following one-dimensional PDE:\n",
    "$$\n",
    "-u_{xx}(x) = f(x)\\quad\\mathrm{ in }\\ \\Omega = (0, \\pi)\n",
    "$$\n",
    "$$\n",
    "u(x) = 0, \\quad\\mathrm{ on }\\ \\partial\\Omega = \\{0, \\pi\\}\n",
    "$$\n",
    "\n",
    "Given the following $4^{th}$ order finite difference approximation of the second order derivative:\n",
    "\n",
    "$$u_{xx}(x_i) = \\frac{-u_{i-2}+16u_{i-1}-30u_i+16u_{i+1}-u_{i+2}}{12h^2}$$\n",
    "\n",
    "Implement a function that given the domain interval, the forcing function, the number of discretization points, the boundary conditions, returns the matrix $A$ and the the right hand side $b$."
   ]
  },
  {
   "cell_type": "code",
   "execution_count": 98,
   "id": "1c562f13",
   "metadata": {
    "id": "1c562f13"
   },
   "outputs": [],
   "source": [
    "def finDif(omega,f,n,bc):\n",
    "    h=(omega[1]-omega[0])/(n-1)\n",
    "    coord=linspace(omega[0],omega[1],n)\n",
    "    A=zeros((n,n),dtype=double);b=zeros(n,dtype=double)\n",
    "    tmp=array([1,-16,30,-16,1])\n",
    "    A[1,:4]=array([-16,30,-16,1])\n",
    "    b[1]=f(coord[1])\n",
    "    for i in range(2,n-2):\n",
    "        A[i,i-2:i+3]=tmp\n",
    "        b[i]=f(coord[i])\n",
    "    A[-2,-4:]=array([1,-16,30,-16])\n",
    "    b[-2]=f(coord[-2])\n",
    "    #apply boundary condition\n",
    "    A[0,:]=A[:,0]=A[-1,:]=A[:,-1]=0\n",
    "    A[0,0]=A[-1,-1]=1\n",
    "    b[0]=bc[0];b[-1]=bc[1]\n",
    "    A=A/(12*(h**2))\n",
    "    # A=A*n**2/12\n",
    "\n",
    "    return A, b"
   ]
  },
  {
   "cell_type": "markdown",
   "id": "c21bb21e",
   "metadata": {
    "id": "c21bb21e"
   },
   "source": [
    "Call the function using:"
   ]
  },
  {
   "cell_type": "code",
   "execution_count": 99,
   "id": "23af8831",
   "metadata": {
    "id": "23af8831"
   },
   "outputs": [],
   "source": [
    "omega = [0,pi]\n",
    "f = lambda x : sin(x)\n",
    "n=8\n",
    "bc = [0,0]\n",
    "A, b = finDif(omega, f, n, bc)\n",
    "\n",
    "# print(A)\n"
   ]
  },
  {
   "cell_type": "markdown",
   "id": "4f8a7c6f",
   "metadata": {
    "id": "4f8a7c6f"
   },
   "source": [
    "Implement two functions that compute the LU and the Cholesky factorization of the system matrix $A$"
   ]
  },
  {
   "cell_type": "code",
   "execution_count": 100,
   "id": "47468a37",
   "metadata": {
    "id": "47468a37"
   },
   "outputs": [],
   "source": [
    "def LU(A):\n",
    "    B=A.copy()\n",
    "    n = B.shape[0]\n",
    "    for i in range(n):\n",
    "        factor = B[i+1:, i] / B[i, i]\n",
    "        B[i+1:,i] = factor\n",
    "        B[i+1:,i+1:] -= factor[:,newaxis]*B[i,i+1:]\n",
    "    return tril(B,-1)+eye(n,dtype=double),triu(B)\n",
    "\n",
    "\n",
    "L, U = LU(A)"
   ]
  },
  {
   "cell_type": "code",
   "execution_count": 101,
   "id": "193ebfed",
   "metadata": {
    "id": "193ebfed"
   },
   "outputs": [],
   "source": [
    "def cholesky(A):\n",
    "    n=A.shape[0]\n",
    "    L=zeros((n,n))\n",
    "    for j in range(n):\n",
    "        tmp_sum=sum(L[j,:j]*L[j,:j])\n",
    "        L[j,j]=sqrt(A[j,j]-tmp_sum)      \n",
    "        for i in range(j+1,n):\n",
    "            tmp_sum=sum(L[i,:j]*L[j,:j])\n",
    "            L[i,j]=(1/L[j,j])*(A[i,j]-tmp_sum)\n",
    "    return L,L.transpose()\n",
    "    \n",
    "HT, H = cholesky(A)"
   ]
  },
  {
   "cell_type": "markdown",
   "id": "41eb8436",
   "metadata": {
    "id": "41eb8436"
   },
   "source": [
    "Implement forward and backward substitution functions to exploit the developed factorization methods to solve the derived linear system of equations."
   ]
  },
  {
   "cell_type": "code",
   "execution_count": 102,
   "id": "019cf0df",
   "metadata": {
    "id": "019cf0df"
   },
   "outputs": [],
   "source": [
    "def L_solve(L,rhs):\n",
    "    n=A.shape[0]\n",
    "    sol=zeros(n)\n",
    "    sol[0]=b[0]/L[0,0]\n",
    "    for i in range(1,n):\n",
    "        sol[i]=(1/L[i,i])*(rhs[i]-dot(L[i,:i],sol[:i]))\n",
    "    return sol"
   ]
  },
  {
   "cell_type": "code",
   "execution_count": 103,
   "id": "26ce17c4",
   "metadata": {
    "id": "26ce17c4"
   },
   "outputs": [],
   "source": [
    "def U_solve(U,rhs):\n",
    "    n=A.shape[0]\n",
    "    sol=zeros(n)\n",
    "    sol[-1]=b[-1]/U[-1,-1]\n",
    "    for i in range(n-2,-1,-1):\n",
    "        sol[i]=(1/U[i,i])*(rhs[i]-dot(U[i,i:],sol[i:]))\n",
    "    return sol \n"
   ]
  },
  {
   "cell_type": "markdown",
   "id": "08ac9ba1",
   "metadata": {
    "id": "08ac9ba1"
   },
   "source": [
    "Solve the derived linear system using the implemented functions and plot the computed solution:"
   ]
  },
  {
   "cell_type": "code",
   "execution_count": 104,
   "id": "7c1de4f3",
   "metadata": {
    "id": "7c1de4f3"
   },
   "outputs": [
    {
     "data": {
      "text/plain": [
       "<matplotlib.legend.Legend at 0x7fc8d4baf100>"
      ]
     },
     "execution_count": 104,
     "metadata": {},
     "output_type": "execute_result"
    },
    {
     "data": {
      "image/png": "[encoded data removed]",
      "text/plain": [
       "<Figure size 432x288 with 1 Axes>"
      ]
     },
     "metadata": {
      "needs_background": "light"
     },
     "output_type": "display_data"
    }
   ],
   "source": [
    "tmp=L_solve(L,b)\n",
    "sol_LU=U_solve(U,tmp)\n",
    "coords=linspace(omega[0],omega[1],n)\n",
    "tmp=L_solve(HT,b)\n",
    "sol_CH=U_solve(H,tmp)\n",
    "coords=linspace(omega[0],omega[1],n)\n",
    "title='Comparison LU and Cholesky solution'\n",
    "xlabel='x'\n",
    "ylabel='u(x)'\n",
    "plot(coords,sol_LU,'o-b',label='LU')\n",
    "plot(coords,sol_CH,'x-r',label='CH')\n",
    "legend(loc='best')\n"
   ]
  },
  {
   "cell_type": "markdown",
   "id": "62cdfe65",
   "metadata": {
    "id": "62cdfe65"
   },
   "source": [
    "Considering the new domain $\\Omega = (0,1)$ and the forcing term $f(x) = x(1-x)$ with B.C. $u(x) = 0$, on $\\partial \\Omega = {0,1}$ produce a plot and a table where you show the decay of the error w.r.t. the number of grid points.\n",
    "(The analytical solution for the above problems is $u_{an} = \\frac{x^4}{12} - \\frac{x^3}{6} + \\frac{x}{12}$)"
   ]
  },
  {
   "cell_type": "code",
   "execution_count": 105,
   "id": "91212afb",
   "metadata": {
    "id": "91212afb"
   },
   "outputs": [
    {
     "name": "stdout",
     "output_type": "stream",
     "text": [
      "[[0.00064344 0.00064344 0.00064344]\n",
      " [0.00045542 0.00045542 0.00045542]\n",
      " [0.00037195 0.00037195 0.00037195]\n",
      " [0.00032217 0.00032217 0.00032217]\n",
      " [0.00028818 0.00028818 0.00028818]\n",
      " [0.00026308 0.00026308 0.00026308]\n",
      " [0.00022785 0.00022785 0.00022785]\n",
      " [0.00021483 0.00021483 0.00021483]\n",
      " [0.0002038  0.0002038  0.0002038 ]]\n"
     ]
    },
    {
     "data": {
      "text/plain": [
       "[<matplotlib.lines.Line2D at 0x7fc8d4c3c6a0>]"
      ]
     },
     "execution_count": 105,
     "metadata": {},
     "output_type": "execute_result"
    },
    {
     "data": {
      "image/png": "[encoded data removed]",
      "text/plain": [
       "<Figure size 432x288 with 1 Axes>"
      ]
     },
     "metadata": {
      "needs_background": "light"
     },
     "output_type": "display_data"
    }
   ],
   "source": [
    "#TODO\n",
    "omega = [0,1]\n",
    "ff = lambda x : x*(1-x)\n",
    "bc = [0,0]\n",
    "N=9\n",
    "npoints=[100,200,300,400,500,600,800,900,1000]\n",
    "error=zeros((N,3))\n",
    "u = lambda x : (x**4/12)-(x**3)/6+(x/12)\n",
    "for idx,i in enumerate(npoints):\n",
    "    coords=linspace(omega[0],omega[1],i)\n",
    "    A, b = finDif(omega, ff, i, bc)\n",
    "    #solve with LU\n",
    "    L, U = LU(A)\n",
    "    tmp=L_solve(L,b)\n",
    "    sol_LU=U_solve(U,tmp)\n",
    "    #solved with CH\n",
    "    HT, H = cholesky(A)\n",
    "    tmp=L_solve(HT,b)\n",
    "    sol_CH=U_solve(H,tmp)\n",
    "    #linalg\n",
    "    sol_alg=linalg.solve(A,b)\n",
    "    #analitical solution\n",
    "    true_sol=u(coords)\n",
    "    #LU-CH-error\n",
    "    error[idx,0]=linalg.norm(true_sol-sol_LU)\n",
    "    error[idx,1]=linalg.norm(true_sol-sol_CH)\n",
    "    error[idx,2]=linalg.norm(true_sol-sol_alg)\n",
    "\n",
    "\n",
    "print(error)\n",
    "title='Error'\n",
    "xlabel='# points'\n",
    "ylabel='error'\n",
    "plot(npoints,error[:,0],'o-b')\n",
    "plot(npoints,error[:,1],'x-r')\n",
    "plot(npoints,error[:,2],'x-r')\n",
    "\n",
    "\n",
    "\n",
    "\n"
   ]
  },
  {
   "cell_type": "markdown",
   "id": "c8d5002f",
   "metadata": {
    "id": "c8d5002f"
   },
   "source": [
    "Exploit the derived LU factorizations to compute the condition number of the system's matrix $A$ using the original problem formulation."
   ]
  },
  {
   "cell_type": "code",
   "execution_count": 114,
   "id": "c25fc1fe",
   "metadata": {
    "id": "c25fc1fe"
   },
   "outputs": [
    {
     "name": "stdout",
     "output_type": "stream",
     "text": [
      "Power method converged in %d iteration  8591\n",
      "it  7 err  3.872450725533099e-06\n",
      "Inverse power method converged in %d iteration  7\n",
      "1.0037822708138877 3631.8506808784273 3631.850680878411 1.0037822708183348\n",
      "3618.1657979815886 3618.165797964871\n"
     ]
    }
   ],
   "source": [
    "#Power Method\n",
    "def PM(A,z,tol=1e-5,nmax=20000):\n",
    "    it = 0\n",
    "    err = tol + 1.\n",
    "    while it < nmax and err > tol:\n",
    "        q = z/linalg.norm(z,2)\n",
    "        z = dot(A,q)\n",
    "        l = dot(q.T,z)\n",
    "        err = linalg.norm(z-l*q,2)\n",
    "        it += 1\n",
    "    if(it==nmax):\n",
    "        print(\"Attention: Power Method reached the maximum number of iterations,\\\n",
    "             for a more accurate solution increase it.\")\n",
    "    else:\n",
    "        print(\"Power method converged in %d iteration \",it)\n",
    "    return l\n",
    "\n",
    "#Inverse power method\n",
    "def IPM(A,z0,tol=1e-5,nmax=1000):\n",
    "    L,U=LU(A)\n",
    "    q = z0/linalg.norm(z0,2)\n",
    "    it=0\n",
    "    err = tol + 1.\n",
    "    while it < nmax and err > tol:\n",
    "        y=linalg.solve(L,q)         #Also L_solve could be used, prefered scipy\n",
    "        x=linalg.solve(U,y)         #Also U_solve could be used, prefered scipy\n",
    "        q=x/linalg.norm(x,2)\n",
    "        z=dot(A,q)\n",
    "        l=dot(q.T,z)\n",
    "        err=linalg.norm(z-l*q,2)\n",
    "        it+=1\n",
    "    if(it==nmax):\n",
    "        print(\"Attention: Inverse Power Method reached the maximum number of iterations,\\\n",
    "             for a more accurate solution increase it.\")\n",
    "    else:\n",
    "        print(\"Inverse power method converged in %d iteration \",it)\n",
    "    return l\n",
    "    \n",
    "\n",
    "def condNumb(A):\n",
    "    n=A.shape[0]\n",
    "    z0=random.rand(n)\n",
    "    max_eig=PM(A,z0)\n",
    "    min_eig=IPM(A,z0)\n",
    "    zz,vv=linalg.eig(A)\n",
    "    print(min(zz),max(zz),max_eig,min_eig)\n",
    "    return max_eig/min_eig\n",
    "\n",
    "\n",
    "omega = [0,pi]\n",
    "f = lambda x : sin(x)\n",
    "n=83\n",
    "bc = [0,0]\n",
    "A, b = finDif(omega, f, n, bc)\n",
    "\n",
    "    \n",
    "l_np, x_np = linalg.eig(A)\n",
    "\n",
    "print(linalg.cond(A),condNumb(A))\n"
   ]
  },
  {
   "cell_type": "markdown",
   "id": "2728b49a",
   "metadata": {
    "id": "2728b49a"
   },
   "source": [
    "Implement a preconditioned Conjugant Gradient method to solve the original linear system of equations using an iterative method:"
   ]
  },
  {
   "cell_type": "code",
   "execution_count": 107,
   "id": "72e1567a",
   "metadata": {},
   "outputs": [],
   "source": [
    "def conjugate_gradient(A, b, P, nmax=len(A), eps=1e-10):\n",
    "    n=A.shape[0]\n",
    "    x=random.rand(n)\n",
    "    r=b-dot(A,x)\n",
    "    p=linalg.solve(P,r)\n",
    "    res=1\n",
    "    it=0\n",
    "    while res>eps and it<nmax:\n",
    "        v1=dot(A,p)\n",
    "        alpha=dot(p,r)/dot(v1,p)\n",
    "        x=x+alpha*p \n",
    "        r=r-alpha*v1\n",
    "        z=linalg.solve(P,r)\n",
    "        beta=dot(v1,z)/dot(p,v1)\n",
    "        p=z-beta*p\n",
    "        res=sqrt(dot(r,r))\n",
    "        it+=1\n",
    "    return x,it,res"
   ]
  },
  {
   "cell_type": "code",
   "execution_count": 108,
   "id": "62b83aee",
   "metadata": {
    "id": "62b83aee"
   },
   "outputs": [
    {
     "name": "stdout",
     "output_type": "stream",
     "text": [
      "LU res  2.3766371634252646e-11  iterations  17\n",
      "Cholesky res  5.901560373899409e-25  iterations  3\n"
     ]
    }
   ],
   "source": [
    "omega = [0,pi]\n",
    "f = lambda x : sin(x)\n",
    "n=1728\n",
    "bc = [0,0]\n",
    "A, b = finDif(omega, f, n, bc)\n",
    "\n",
    "L,U=LU(A)\n",
    "P=L.dot(L.T)\n",
    "HT, H = cholesky(A)\n",
    "PH=HT.dot(HT.T)\n",
    "\n",
    "sol_pc,it,res=conjugate_gradient(A,b,P)\n",
    "\n",
    "sol_pc_2,it2,res2=conjugate_gradient(A,b,PH)\n",
    "\n",
    "sol_chek=linalg.solve(A,b)\n",
    "\n",
    "\n",
    "print('LU res ',res, ' iterations ',it)\n",
    "\n",
    "print('Cholesky res ',res2, ' iterations ',it2)\n",
    "\n",
    "\n",
    "for i in range(n):\n",
    "    if(sol_pc[i]-sol_chek[i]>1e-10):\n",
    "        print('Warning solution may not be correct',sol_pc[i]-sol_chek[i])\n",
    "    if(sol_pc_2[i]-sol_chek[i]>1e-10):\n",
    "        print('Warning solution may not be correct',sol_pc[i]-sol_chek[i])\n"
   ]
  },
  {
   "cell_type": "markdown",
   "id": "8a4cfc02",
   "metadata": {
    "id": "8a4cfc02"
   },
   "source": [
    "Consider the following time dependent variation of the PDE starting from the orginal problem formulation:\n",
    "$$\n",
    "u'(t)-u_{xx} = \\alpha(t)f(x)\n",
    "$$\n",
    "\n",
    "for $t\\in [0,T]$, with $\\alpha(t) = \\cos(t)$ and $T = 6\\pi$\n",
    "\n",
    "Use the same finite difference scheme to derive the semi-discrete formulation and solve it using a forward Euler's method.\n",
    "\n",
    "Plot the time dependent solution solution at $x = \\pi/2$, $x=1$, \n",
    "$x=\\pi$\n"
   ]
  },
  {
   "cell_type": "code",
   "execution_count": 109,
   "id": "3ffe0689",
   "metadata": {
    "id": "3ffe0689"
   },
   "outputs": [
    {
     "name": "stdout",
     "output_type": "stream",
     "text": [
      "32 32 50\n",
      "[1.01546429 1.01546429 1.58666296 1.58666296 3.14159265 3.14159265]\n",
      "[0.         0.01478446 0.03061334 0.04648526 0.06231353 0.07807717\n",
      " 0.09376    0.10934626 0.1248203  0.14016658 0.1553697  0.17041441\n",
      " 0.18528559 0.19996833 0.21444789 0.22870973 0.24273954 0.25652323\n",
      " 0.27004696 0.28329717 0.29626056 0.3089241  0.32127509 0.33330112\n",
      " 0.34499014 0.35633039 0.3673105  0.37791945 0.38814659 0.39798164\n",
      " 0.40741474 0.41643642 0.42503761 0.43320969 0.44094444 0.44823411\n",
      " 0.45507138 0.46144938 0.46736171 0.47280243 0.47776609 0.48224769\n",
      " 0.48624274 0.48974722 0.49275763 0.49527094 0.49728461 0.49879664\n",
      " 0.49980551 0.50031019 0.50031019 0.49980551 0.49879664 0.49728461\n",
      " 0.49527094 0.49275763 0.48974722 0.48624274 0.48224769 0.47776609\n",
      " 0.47280243 0.46736171 0.46144938 0.45507138 0.44823411 0.44094444\n",
      " 0.43320969 0.42503761 0.41643642 0.40741474 0.39798164 0.38814659\n",
      " 0.37791945 0.3673105  0.35633039 0.34499014 0.33330112 0.32127509\n",
      " 0.3089241  0.29626056 0.28329717 0.27004696 0.25652323 0.24273954\n",
      " 0.22870973 0.21444789 0.19996833 0.18528559 0.17041441 0.1553697\n",
      " 0.14016658 0.1248203  0.10934626 0.09376    0.07807717 0.06231353\n",
      " 0.04648526 0.03061334 0.01478446 0.        ]\n"
     ]
    },
    {
     "data": {
      "image/png": "[encoded data removed]",
      "text/plain": [
       "<Figure size 432x288 with 1 Axes>"
      ]
     },
     "metadata": {
      "needs_background": "light"
     },
     "output_type": "display_data"
    }
   ],
   "source": [
    "T=[0,6*pi]\n",
    "omega = [0,pi]  #space domain\n",
    "bc=[0,0]        #dirichlet bc\n",
    "# ns=100         #number of spatial points\n",
    "# nt=400000        #number of time \"points\"\n",
    "ns=100\n",
    "nt=100000\n",
    "hs=(omega[1]-omega[0])/(ns-1)\n",
    "ht=(T[1]-T[0])/(nt-1)\n",
    "alpha=lambda t: cos(t)# Q2=zeros((A.shape[0],A.shape[0]))\n",
    "# for i in range(A.shape[0]):\n",
    "#     Q2[:,i]=Q[:,i]/linalg.norm(Q[:,i])\n",
    "\n",
    "f = lambda x : sin(x) #x*(1-x)\n",
    "#spatial coord\n",
    "coord=linspace(omega[0],omega[1],ns)\n",
    "#time coord\n",
    "times=linspace(T[0],T[1],nt)\n",
    "\n",
    "A=zeros((ns,ns),dtype=double)\n",
    "a=-ones((ns-2,),dtype=double)\n",
    "b=16*ones((ns-1,),dtype=double)\n",
    "c=-30*ones((ns,),dtype=double)\n",
    "A=diag(a,-2)+diag(b,-1)+diag(c)+diag(b,1)+diag(a,2)\n",
    "#boundary conditions\n",
    "A[0,:]=0\n",
    "A[-1,:]=0\n",
    "A=A/(12*(hs**2))\n",
    "\n",
    "d0=zeros(6,dtype=int)\n",
    "\n",
    "def get_index(coord,val):\n",
    "    for id,i in enumerate(coord):\n",
    "        if(i>=val):\n",
    "            return(id)\n",
    "            break\n",
    "d0[0]=get_index(coord,1)\n",
    "if(d0[0]-1<1e-8):\n",
    "    d0[1]=d0[0]-1\n",
    "else:\n",
    "    d0[1]=d0[0]\n",
    "d0[2]=get_index(coord,pi/2)\n",
    "if(d0[2]-(pi/2)<1e-8):\n",
    "    d0[3]=d0[2]-1\n",
    "else:\n",
    "    d0[3]=d0[2]\n",
    "d0[4]=get_index(coord,pi)\n",
    "if(d0[4]-pi<1e-8):\n",
    "    d0[5]=d0[4]-1\n",
    "else:\n",
    "    d0[5]=d0[4]\n",
    "\n",
    "print(d0[0],d0[1],d0[2])\n",
    "print(coord[d0])\n",
    "\n",
    "u0=zeros(ns) #supposing initial time solution\n",
    "sol=zeros((nt,3))\n",
    "for id,t in enumerate(times):\n",
    "    rhs=f(coord)\n",
    "    rhs[0]=rhs[-1]=0\n",
    "    b=alpha(t)*rhs*(ht)\n",
    "    I=eye(ns)\n",
    "    I[0,:]=I[-1,:]=0\n",
    "    ut=dot(I+ht*A,u0)+b\n",
    "    u0=ut\n",
    "    sol[id,0]=(u0[d0[0]]+u0[d0[1]])/2\n",
    "    sol[id,1]=(u0[d0[2]]+u0[d0[3]])/2\n",
    "    sol[id,2]=(u0[d0[4]]+u0[d0[5]])/2\n",
    "\n",
    "title=\"Time dependent solution\"\n",
    "xlabel='t'\n",
    "ylabel='u(x,t)'    \n",
    "\n",
    "plot(times,sol[:,0],label='1')\n",
    "plot(times,sol[:,1],label='pi/2')\n",
    "plot(times,sol[:,2],label='pi')\n",
    "legend(loc='best')\n",
    "grid(True)\n",
    "print(u0)\n",
    "\n"
   ]
  },
  {
   "cell_type": "code",
   "execution_count": null,
   "id": "2e14c520",
   "metadata": {},
   "outputs": [],
   "source": []
  },
  {
   "cell_type": "markdown",
   "id": "36936121",
   "metadata": {
    "id": "36936121"
   },
   "source": [
    "Given the original $Au = b$ system, implement an algorithm to compute the eigenvalues and eigenvectors of the matrix $A$. Exploit the computed LU factorization"
   ]
  },
  {
   "cell_type": "code",
   "execution_count": 120,
   "id": "622aadf4",
   "metadata": {
    "id": "622aadf4"
   },
   "outputs": [
    {
     "name": "stdout",
     "output_type": "stream",
     "text": [
      "computed eigenvectors 5294.594705682041 [-0.          0.00475322 -0.00923675  0.01372577 -0.01820018  0.02265635\n",
      " -0.02708974  0.03149592 -0.03587046  0.04020895 -0.04450704  0.04876041\n",
      " -0.05296479  0.05711595 -0.06120972  0.06524199 -0.06920871  0.07310589\n",
      " -0.07692961  0.08067604 -0.0843414   0.08792202 -0.09141431  0.09481474\n",
      " -0.0981199   0.10132647 -0.10443124  0.10743107 -0.11032296  0.11310401\n",
      " -0.1157714   0.11832248 -0.12075467  0.12306552 -0.12525273  0.12731408\n",
      " -0.12924751  0.13105108 -0.13272297  0.13426151 -0.13566514  0.13693246\n",
      " -0.1380622   0.13905321 -0.13990451  0.14061523 -0.14118467  0.14161225\n",
      " -0.14189755  0.14204026 -0.14204026  0.14189755 -0.14161225  0.14118467\n",
      " -0.14061523  0.13990451 -0.13905321  0.1380622  -0.13693246  0.13566514\n",
      " -0.13426151  0.13272297 -0.13105108  0.12924751 -0.12731408  0.12525273\n",
      " -0.12306552  0.12075467 -0.11832248  0.1157714  -0.11310401  0.11032296\n",
      " -0.10743107  0.10443124 -0.10132647  0.0981199  -0.09481474  0.09141431\n",
      " -0.08792202  0.0843414  -0.08067604  0.07692961 -0.07310589  0.06920871\n",
      " -0.06524199  0.06120972 -0.05711595  0.05296479 -0.04876041  0.04450704\n",
      " -0.04020895  0.03587046 -0.03149592  0.02708974 -0.02265635  0.01820018\n",
      " -0.01372577  0.00923675 -0.00475322 -0.        ]\n",
      "numpy eigenvectors  5294.598016140665 [ 0.         -0.00475322  0.00923675 -0.01372577  0.01820018 -0.02265635\n",
      "  0.02708974 -0.03149592  0.03587046 -0.04020895  0.04450704 -0.04876041\n",
      "  0.05296479 -0.05711595  0.06120972 -0.06524199  0.06920871 -0.07310589\n",
      "  0.07692961 -0.08067604  0.0843414  -0.08792202  0.09141431 -0.09481474\n",
      "  0.0981199  -0.10132647  0.10443124 -0.10743107  0.11032296 -0.11310401\n",
      "  0.1157714  -0.11832248  0.12075467 -0.12306552  0.12525273 -0.12731408\n",
      "  0.12924751 -0.13105108  0.13272297 -0.13426151  0.13566514 -0.13693246\n",
      "  0.1380622  -0.13905321  0.13990451 -0.14061523  0.14118467 -0.14161225\n",
      "  0.14189755 -0.14204026  0.14204026 -0.14189755  0.14161225 -0.14118467\n",
      "  0.14061523 -0.13990451  0.13905321 -0.1380622   0.13693246 -0.13566514\n",
      "  0.13426151 -0.13272297  0.13105108 -0.12924751  0.12731408 -0.12525273\n",
      "  0.12306552 -0.12075467  0.11832248 -0.1157714   0.11310401 -0.11032296\n",
      "  0.10743107 -0.10443124  0.10132647 -0.0981199   0.09481474 -0.09141431\n",
      "  0.08792202 -0.0843414   0.08067604 -0.07692961  0.07310589 -0.06920871\n",
      "  0.06524199 -0.06120972  0.05711595 -0.05296479  0.04876041 -0.04450704\n",
      "  0.04020895 -0.03587046  0.03149592 -0.02708974  0.02265635 -0.01820018\n",
      "  0.01372577 -0.00923675  0.00475322  0.        ]\n"
     ]
    }
   ],
   "source": [
    "omega = [0,pi]\n",
    "f = lambda x : sin(x)\n",
    "n=100\n",
    "bc = [0,0]\n",
    "A, b = finDif(omega, f, n, bc)\n",
    "\n",
    "\n",
    "def eigenval(A,tol=1e-5,nmax=10000):\n",
    "    T=A.copy()\n",
    "    test=max(amax(abs(tril(A,-1)),axis=0))\n",
    "    it=0\n",
    "    while it<nmax and test>tol:\n",
    "        L,U=LU(T)\n",
    "        T=U@L\n",
    "        it+=1\n",
    "        test=max(amax(abs(tril(T,-1)),axis=0))\n",
    "        if(it>=nmax):\n",
    "            print('eigenvalues rich max iterations, nmax ',nmax,' tol ',test)\n",
    "    return diag(T)\n",
    "\n",
    "def eigenvec(A,eig,n,nmax=500, eps=1e-5):\n",
    "    evec=eye(n)\n",
    "    for id, eval in enumerate(eig):\n",
    "        if id!=0 and id!=n-1: # consideration boundary conditions\n",
    "            L,U=LU(A-eval*eye(n))\n",
    "            it=0\n",
    "            evec[:,id]=evec[:,id]/linalg.norm(evec[:,id],2)\n",
    "            while  it<nmax :\n",
    "                tmp=linalg.solve(L,evec[:,id])\n",
    "                evec[:,id]=linalg.solve(U,tmp)\n",
    "                evec[:,id]=evec[:,id]/linalg.norm(evec[:,id],2)\n",
    "                it+=1\n",
    "        else:\n",
    "            evec[:,id]=0\n",
    "            evec[id,id]=1\n",
    "    return evec\n",
    "\n",
    "\n",
    "\n",
    "eig =eigenval(A)\n",
    "vals,v=linalg.eig(A)\n",
    "vec=eigenvec(A,eig,A.shape[0])\n",
    "# print('computed eigenvalues',eig)\n",
    "# print('numpy eigenvalues',vals)\n",
    "# print('computed eigenvectors',eig[1],vec[:,1])\n",
    "# print('numpy eigenvectors ',vals[0],v[:,0])\n"
   ]
  },
  {
   "cell_type": "markdown",
   "id": "85d5f64e",
   "metadata": {
    "id": "85d5f64e"
   },
   "source": [
    "Compute the inverse of the matrix A exploiting the derived LU factorization"
   ]
  },
  {
   "cell_type": "code",
   "execution_count": 111,
   "id": "6ad7199f",
   "metadata": {
    "id": "6ad7199f"
   },
   "outputs": [],
   "source": [
    "omega = [0,pi]\n",
    "f = lambda x : sin(x)\n",
    "n=100\n",
    "bc = [0,0]\n",
    "A, b = finDif(omega, f, n, bc)\n",
    "\n",
    "B=eye(n,dtype=double)\n",
    "AINV=zeros((n,n),dtype=double)\n",
    "L,U=LU(A)\n",
    "for i in range(n):\n",
    "    tmp=linalg.solve(L,B[:,i])\n",
    "    AINV[:,i]=linalg.solve(U,tmp)\n",
    "\n",
    "# print(AINV)\n",
    "# print(linalg.inv(A))\n",
    "B=linalg.inv(A)\n",
    "\n",
    "for i in range(n):\n",
    "    for j in range(n):\n",
    "        if(AINV[i,j]-B[i,j]>1e-15):\n",
    "            print(\"wrong inverse\")\n",
    "\n"
   ]
  },
  {
   "cell_type": "markdown",
   "id": "cb22566e",
   "metadata": {
    "id": "cb22566e"
   },
   "source": [
    "Consider the following Cauchy problem\n",
    "$$\n",
    "\\begin{cases}\n",
    "y'= -ty^2 \\quad 0\\le t \\le 2\\\\\n",
    "y(0) = 1\n",
    "\\end{cases}\n",
    "$$\n",
    "Implement a Backward Euler's method in a suitable function and solve the resulting non-linear equation using a Newton's method."
   ]
  },
  {
   "cell_type": "code",
   "execution_count": 94,
   "id": "3184e358",
   "metadata": {
    "id": "3184e358"
   },
   "outputs": [
    {
     "data": {
      "text/plain": [
       "<matplotlib.legend.Legend at 0x7fc8d50a62e0>"
      ]
     },
     "execution_count": 94,
     "metadata": {},
     "output_type": "execute_result"
    },
    {
     "data": {
      "image/png": "[encoded data removed]",
      "text/plain": [
       "<Figure size 432x288 with 1 Axes>"
      ]
     },
     "metadata": {
      "needs_background": "light"
     },
     "output_type": "display_data"
    }
   ],
   "source": [
    "def newton(y0,t,h,toll=1e-6, nmax=100):\n",
    "    it=0\n",
    "    y=y0\n",
    "    diff=1.\n",
    "    while diff>=toll and it <nmax:\n",
    "        y= y-(h*t*y**2+y-y0)/(1+2*h*t*y)\n",
    "        diff=h*t*y**2+y-y0\n",
    "        it+=1\n",
    "    return y\n",
    "\n",
    "def be(y0,t0,tf,h):\n",
    "    timesteps=arange(t0,tf+1e-10, h)\n",
    "    sol = zeros_like(timesteps)\n",
    "    sol[0] = y0\n",
    "    for i in range(1,len(sol)):\n",
    "        sol[i]=newton(sol[i-1],timesteps[i],h)\n",
    "    \n",
    "    return sol,timesteps\n",
    "\n",
    "sol,time=be(1,0,2,0.1)\n",
    "\n",
    "y=1/(1+(time**2)/2)\n",
    "# print(y)\n",
    "# print(sol)\n",
    "title='Solution'\n",
    "plot(time,sol,'r', label='estimated')\n",
    "plot(time,y,'b',label='exact')\n",
    "xlabel='t'\n",
    "ylabel='y(t)'\n",
    "grid(True)\n",
    "legend(loc='best')\n",
    "\n",
    "\n"
   ]
  },
  {
   "cell_type": "code",
   "execution_count": null,
   "id": "48170ec0",
   "metadata": {},
   "outputs": [],
   "source": []
  }
 ],
 "metadata": {
  "colab": {
   "name": "FinalProject-2021-2022.ipynb",
   "provenance": []
  },
  "kernelspec": {
   "display_name": "Python 3 (ipykernel)",
   "language": "python",
   "name": "python3"
  },
  "language_info": {
   "codemirror_mode": {
    "name": "ipython",
    "version": 3
   },
   "file_extension": ".py",
   "mimetype": "text/x-python",
   "name": "python",
   "nbconvert_exporter": "python",
   "pygments_lexer": "ipython3",
   "version": "3.9.7"
  }
 },
 "nbformat": 4,
 "nbformat_minor": 5
}
